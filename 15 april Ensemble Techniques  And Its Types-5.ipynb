{
 "cells": [
  {
   "cell_type": "code",
   "execution_count": null,
   "id": "4a9b6973-025e-4556-aad0-00848c95a5c4",
   "metadata": {},
   "outputs": [],
   "source": [
    "Building a machine learning pipeline for a dataset with both numerical and categorical features that handles missing values, automates feature selection, and builds a model can be accomplished using Python libraries such as scikit-learn. Here's a step-by-step pipeline as you described:"
   ]
  },
  {
   "cell_type": "code",
   "execution_count": null,
   "id": "eb938ef2-36bb-4907-b75f-9d00b9001ce3",
   "metadata": {},
   "outputs": [],
   "source": [
    "# Import necessary libraries\n",
    "import numpy as np\n",
    "import pandas as pd\n",
    "from sklearn.compose import ColumnTransformer\n",
    "from sklearn.ensemble import RandomForestClassifier\n",
    "from sklearn.impute import SimpleImputer\n",
    "from sklearn.ensemble import RandomForestClassifier\n",
    "from sklearn.model_selection import train_test_split\n",
    "from sklearn.pipeline import Pipeline\n",
    "from sklearn.preprocessing import StandardScaler, OneHotEncoder\n",
    "from sklearn.feature_selection import SelectKBest, f_classif\n",
    "from sklearn.metrics import accuracy_score\n",
    "\n",
    "# Load your dataset\n",
    "# Replace 'your_data.csv' with the actual dataset file path\n",
    "data = pd.read_csv('your_data.csv')\n",
    "\n",
    "# Separate target variable and features\n",
    "X = data.drop(columns=['target_column'])  # Features\n",
    "y = data['target_column']  # Target variable\n",
    "\n",
    "# Split data into training and test sets\n",
    "X_train, X_test, y_train, y_test = train_test_split(X, y, test_size=0.2, random_state=42)\n",
    "\n",
    "# Define numerical and categorical features\n",
    "numerical_features = ['num_feature1', 'num_feature2', ...]  # Replace with your numerical feature names\n",
    "categorical_features = ['cat_feature1', 'cat_feature2', ...]  # Replace with your categorical feature names\n",
    "\n",
    "# Step 1: Automated Feature Selection (SelectKBest with ANOVA F-statistic)\n",
    "feature_selector = SelectKBest(score_func=f_classif, k=10)  # Select the top 10 features based on ANOVA F-statistic\n",
    "\n",
    "# Step 2: Numerical Pipeline\n",
    "numerical_pipeline = Pipeline([\n",
    "    ('imputer', SimpleImputer(strategy='mean')),  # Impute missing values with the mean\n",
    "    ('scaler', StandardScaler())  # Scale numerical features\n",
    "])\n",
    "\n",
    "# Step 3: Categorical Pipeline\n",
    "categorical_pipeline = Pipeline([\n",
    "    ('imputer', SimpleImputer(strategy='most_frequent')),  # Impute missing values with most frequent value\n",
    "    ('onehot', OneHotEncoder())  # One-hot encode categorical features\n",
    "])\n",
    "\n",
    "# Step 4: Column Transformer (Combine Numerical and Categorical Pipelines)\n",
    "preprocessor = ColumnTransformer(\n",
    "    transformers=[\n",
    "        ('num', numerical_pipeline, numerical_features),\n",
    "        ('cat', categorical_pipeline, categorical_features)\n",
    "    ])\n",
    "\n",
    "# Step 5: Final Model (Random Forest Classifier)\n",
    "model = RandomForestClassifier(n_estimators=100, random_state=42)\n",
    "\n",
    "# Step 6: Build the Full Pipeline\n",
    "pipeline = Pipeline([\n",
    "    ('feature_selector', feature_selector),\n",
    "    ('preprocessor', preprocessor),\n",
    "    ('model', model)\n",
    "])\n",
    "\n",
    "# Fit the pipeline to the training data\n",
    "pipeline.fit(X_train, y_train)\n",
    "\n",
    "# Step 7: Evaluate the Model on the Test Dataset\n",
    "y_pred = pipeline.predict(X_test)\n",
    "accuracy = accuracy_score(y_test, y_pred)\n",
    "print(\"Accuracy:\", accuracy)\n",
    "\n",
    "# Interpretation: Print feature importances if needed\n",
    "feature_importances = pipeline.named_steps['model'].feature_importances_\n",
    "print(\"Feature Importances:\", feature_importances)\n",
    "\n",
    "# Suggested Improvements:\n",
    "# - Experiment with different feature selection methods and hyperparameters.\n",
    "# - Tune the hyperparameters of the Random Forest Classifier.\n",
    "# - Consider other preprocessing steps, such as feature engineering or dimensionality reduction.\n",
    "# - Use cross-validation for more robust model evaluation.\n",
    "# - Handle class imbalance if present in the target variable.\n"
   ]
  },
  {
   "cell_type": "code",
   "execution_count": null,
   "id": "4aefd70b-0573-4119-a644-c0c93e543320",
   "metadata": {},
   "outputs": [],
   "source": [
    "Q2. Build a pipeline that includes a random forest classifier and a logistic regression classifier, and then\n",
    "use a voting classifier to combine their predictions. Train the pipeline on the iris dataset and evaluate its\n",
    "accuracy."
   ]
  },
  {
   "cell_type": "code",
   "execution_count": null,
   "id": "341124fd-03e3-4a88-b7a4-ea567dba28e8",
   "metadata": {},
   "outputs": [],
   "source": [
    "To build a pipeline that includes both a Random Forest Classifier and a Logistic Regression Classifier and then use a Voting Classifier to combine their predictions on the Iris dataset, you can follow these steps using scikit-learn:"
   ]
  },
  {
   "cell_type": "code",
   "execution_count": null,
   "id": "e00e7fe6-de46-4f6c-984e-b823dfa73334",
   "metadata": {},
   "outputs": [],
   "source": []
  },
  {
   "cell_type": "code",
   "execution_count": null,
   "id": "2055b2a0-aec8-424a-8481-f35e495ebd55",
   "metadata": {},
   "outputs": [],
   "source": []
  }
 ],
 "metadata": {
  "kernelspec": {
   "display_name": "Python 3 (ipykernel)",
   "language": "python",
   "name": "python3"
  },
  "language_info": {
   "codemirror_mode": {
    "name": "ipython",
    "version": 3
   },
   "file_extension": ".py",
   "mimetype": "text/x-python",
   "name": "python",
   "nbconvert_exporter": "python",
   "pygments_lexer": "ipython3",
   "version": "3.10.6"
  }
 },
 "nbformat": 4,
 "nbformat_minor": 5
}
